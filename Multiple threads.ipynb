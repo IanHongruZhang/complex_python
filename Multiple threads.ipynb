{
 "cells": [
  {
   "cell_type": "code",
   "execution_count": null,
   "metadata": {
    "scrolled": true
   },
   "outputs": [],
   "source": [
    "# -*- coding: utf-8 -*-\n",
    "#!/usr/bin/python3\n",
    "### Multiple threads\n",
    "### \n",
    "import _thread\n",
    "import time\n",
    "\n",
    "def print_time(threadName,delay):\n",
    "    count = 0\n",
    "    while count < 5:\n",
    "        time.sleep(delay)\n",
    "        count += 1\n",
    "        print(\"%s: %s\" % (threadName,time.ctime(time.time())))\n",
    "        \n",
    "try:\n",
    "    _thread.start_new_thread(print_time,(\"Thread-1\",2,)) # 两个是同时进行了，两个人在同一张桌子上吃饭\n",
    "    print(\"---------------------------------------------\")\n",
    "    _thread.start_new_thread(print_time,(\"Thread-2\",4,))\n",
    "except:\n",
    "    print(\"Error:无法启动线程\")\n",
    "    \n",
    "while 1:\n",
    "    pass"
   ]
  },
  {
   "cell_type": "code",
   "execution_count": 4,
   "metadata": {},
   "outputs": [
    {
     "name": "stdout",
     "output_type": "stream",
     "text": [
      "开始线程Thread-2开始线程Thread-1\n",
      "\n",
      "Thread-1: Sun Jan 28 10:43:34 2018\n",
      "Thread-1: Sun Jan 28 10:43:35 2018\n",
      "Thread-2: Sun Jan 28 10:43:35 2018\n",
      "Thread-1: Sun Jan 28 10:43:36 2018\n",
      "Thread-1: Sun Jan 28 10:43:37 2018\n",
      "Thread-2: Sun Jan 28 10:43:37 2018\n",
      "Thread-1: Sun Jan 28 10:43:38 2018\n",
      "退出线程Thread-1\n",
      "Thread-2: Sun Jan 28 10:43:39 2018\n",
      "Thread-2: Sun Jan 28 10:43:41 2018\n",
      "Thread-2: Sun Jan 28 10:43:43 2018退出主线程\n",
      "\n",
      "退出线程Thread-2\n"
     ]
    }
   ],
   "source": [
    "import threading\n",
    "import time\n",
    "\n",
    "exitFlag = 0\n",
    "\n",
    "# 继承了threading.Thread的所有模块\n",
    "class myThread(threading.Thread):\n",
    "    def __init__(self,threadID,name,counter):\n",
    "        threading.Thread.__init__(self)\n",
    "        self.threadID = threadID\n",
    "        self.name = name\n",
    "        self.counter = counter\n",
    "    \n",
    "    def run(self):\n",
    "        print(\"开始线程\" + self.name)\n",
    "        print_time(self.name,self.counter,5)\n",
    "        print(\"退出线程\" + self.name)\n",
    "    \n",
    "def print_time(threadName,delay,counter):\n",
    "    while counter:\n",
    "        if exitFlag:\n",
    "            threadName.exit()\n",
    "        time.sleep(delay)\n",
    "        print(\"%s: %s\" % (threadName,time.ctime(time.time())))\n",
    "        counter -= 1\n",
    "\n",
    "thread1 = myThread(1,\"Thread-1\",1) # 最后一个参数是delay\n",
    "thread2 = myThread(2,\"Thread-2\",2)\n",
    "\n",
    "thread1.start()\n",
    "thread2.start()\n",
    "thread1.join()\n",
    "thread2.join()\n",
    "print(\"退出主线程\")"
   ]
  },
  {
   "cell_type": "code",
   "execution_count": 8,
   "metadata": {},
   "outputs": [
    {
     "name": "stdout",
     "output_type": "stream",
     "text": [
      "开启线程Thread-1\n",
      "开启线程Thread-2\n",
      "Thread-1: Sun Jan 28 10:56:34 2018\n",
      "Thread-1: Sun Jan 28 10:56:35 2018\n",
      "Thread-1: Sun Jan 28 10:56:36 2018\n",
      "Thread-2: Sun Jan 28 10:56:38 2018\n",
      "Thread-2: Sun Jan 28 10:56:40 2018\n",
      "Thread-2: Sun Jan 28 10:56:42 2018退出主线程\n",
      "\n"
     ]
    }
   ],
   "source": [
    "import threading\n",
    "import time \n",
    "\n",
    "### 有的时候要同步阻塞\n",
    "### 这相当于暂时单线程\n",
    "class myThread(threading.Thread):\n",
    "    def __init__(self,threadID,name,counter):\n",
    "        threading.Thread.__init__(self)\n",
    "        self.threadID = threadID \n",
    "        self.name = name\n",
    "        self.counter = counter\n",
    "    \n",
    "    def run(self):\n",
    "        print(\"开启线程\" + self.name)\n",
    "        ### 获取锁，用于线程同步（阻塞同步的进程）\n",
    "        threadLock.acquire()\n",
    "        print_time(self.name,self.counter,3)\n",
    "        ### 释放锁\n",
    "        threadLock.release()\n",
    "        \n",
    "def print_time(threadName,delay,counter):\n",
    "    while counter:\n",
    "        time.sleep(delay)\n",
    "        print(\"%s: %s\" % (threadName,time.ctime(time.time())))\n",
    "        counter -= 1\n",
    "    \n",
    "threadLock = threading.Lock()\n",
    "threads = []\n",
    "\n",
    "thread1 = myThread(1,\"Thread-1\",1)\n",
    "thread2 = myThread(2,\"Thread-2\",2)\n",
    "\n",
    "thread1.start()\n",
    "thread2.start()\n",
    "\n",
    "threads.append(thread1)\n",
    "threads.append(thread2)\n",
    "\n",
    "for t in threads:\n",
    "    t.join()\n",
    "print(\"退出主线程\")"
   ]
  },
  {
   "cell_type": "code",
   "execution_count": 10,
   "metadata": {},
   "outputs": [
    {
     "name": "stdout",
     "output_type": "stream",
     "text": [
      "开启线程Thread-1\n",
      "开启线程Thread-2开启线程Thread-3\n",
      "\n",
      "Thread-3 processing One\n",
      "Thread-1 processing TwoThread-2 processing Three\n",
      "\n",
      "Thread-3 processing Four\n",
      "Thread-2 processing Five\n",
      "退出线程Thread-3\n",
      "退出线程Thread-1退出线程Thread-2退出主线程\n",
      "\n",
      "\n"
     ]
    }
   ],
   "source": [
    "import queue\n",
    "import threading \n",
    "import time\n",
    "\n",
    "exitFlag = 0\n",
    "class myThread(threading.Thread):\n",
    "    def __init__(self,threadID,name,q):\n",
    "        threading.Thread.__init__(self)\n",
    "        self.threadID = threadID\n",
    "        self.name = name\n",
    "        self.q = q\n",
    "        \n",
    "    def run(self):\n",
    "        print(\"开启线程\" + self.name)\n",
    "        process_data(self.name,self.q)\n",
    "        print(\"退出线程\" + self.name)\n",
    "        \n",
    "def process_data(threadName,q):\n",
    "    while not exitFlag:\n",
    "        queueLock.acquire()\n",
    "        if not workQueue.empty():\n",
    "            data = q.get()\n",
    "            queueLock.release()\n",
    "            print(\"%s processing %s\" % (threadName,data))\n",
    "        else:\n",
    "            queueLock.release()\n",
    "        time.sleep(1)\n",
    "        \n",
    "threadList = [\"Thread-1\",\"Thread-2\",\"Thread-3\"]\n",
    "nameList = [\"One\",\"Two\",\"Three\",\"Four\",\"Five\"]\n",
    "queueLock = threading.Lock()\n",
    "workQueue = queue.Queue(10)\n",
    "threads = []\n",
    "threadID = 1\n",
    "\n",
    "for tName in threadList:\n",
    "    thread = myThread(threadID,tName,workQueue)\n",
    "    thread.start()\n",
    "    threads.append(thread)\n",
    "    threadID += 1\n",
    "    \n",
    "queueLock.acquire()\n",
    "for word in nameList:\n",
    "    workQueue.put(word)\n",
    "queueLock.release()\n",
    "\n",
    "while not workQueue.empty():\n",
    "    pass\n",
    "\n",
    "exitFlag = 1\n",
    "\n",
    "for t in threads:\n",
    "    t.join()\n",
    "print(\"退出主线程\")\n",
    "\n",
    "    \n",
    "            "
   ]
  },
  {
   "cell_type": "code",
   "execution_count": null,
   "metadata": {
    "collapsed": true
   },
   "outputs": [],
   "source": []
  },
  {
   "cell_type": "code",
   "execution_count": null,
   "metadata": {
    "collapsed": true
   },
   "outputs": [],
   "source": []
  }
 ],
 "metadata": {
  "kernelspec": {
   "display_name": "Python 3",
   "language": "python",
   "name": "python3"
  },
  "language_info": {
   "codemirror_mode": {
    "name": "ipython",
    "version": 3
   },
   "file_extension": ".py",
   "mimetype": "text/x-python",
   "name": "python",
   "nbconvert_exporter": "python",
   "pygments_lexer": "ipython3",
   "version": "3.6.1"
  }
 },
 "nbformat": 4,
 "nbformat_minor": 2
}
